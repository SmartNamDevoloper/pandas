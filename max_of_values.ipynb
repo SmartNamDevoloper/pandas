import pandas as pd 

# Reading the gun violence dataset
gun = pd.read_csv('https://query.data.world/s/3iebgxp57luarsikz5wtcwahpjwed7')
# Write your code here
gun["Incident Date"] =gun["Incident Date"].astype('datetime64[ns]')
gun["month"]=gun["Incident Date"].dt.month_name()
date_list = pd.DataFrame()
date_list["month"] = gun[gun["# Killed"] == max(gun["# Killed"])]["month"]
sum_months = date_list["month"].value_counts().idxmax()
print(sum_months)
