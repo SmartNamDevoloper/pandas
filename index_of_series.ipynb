series1=pd.Series([1,2,3,4,5,6,7],index=(0,1,2,3,4,5,6))
series2=pd.Series([1,3,7],index=(0,1,2))
out_list=[]
series1[series1.isin(series2)].index
