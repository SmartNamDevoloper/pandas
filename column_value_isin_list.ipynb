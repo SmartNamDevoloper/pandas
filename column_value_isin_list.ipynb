df.country.isin([countries_aid])
